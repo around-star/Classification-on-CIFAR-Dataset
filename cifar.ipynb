{
  "nbformat": 4,
  "nbformat_minor": 0,
  "metadata": {
    "kernelspec": {
      "name": "python3",
      "display_name": "Python 3"
    },
    "language_info": {
      "codemirror_mode": {
        "name": "ipython",
        "version": 3
      },
      "file_extension": ".py",
      "mimetype": "text/x-python",
      "name": "python",
      "nbconvert_exporter": "python",
      "pygments_lexer": "ipython3",
      "version": "3.7.6"
    },
    "colab": {
      "name": "cifar.ipynb",
      "provenance": [],
      "include_colab_link": true
    },
    "accelerator": "GPU"
  },
  "cells": [
    {
      "cell_type": "markdown",
      "metadata": {
        "id": "view-in-github",
        "colab_type": "text"
      },
      "source": [
        "<a href=\"https://colab.research.google.com/github/around-star/Classification-on-CIFAR-Dataset/blob/master/cifar.ipynb\" target=\"_parent\"><img src=\"https://colab.research.google.com/assets/colab-badge.svg\" alt=\"Open In Colab\"/></a>"
      ]
    },
    {
      "cell_type": "code",
      "metadata": {
        "id": "6NMUutHBxOQ2",
        "colab_type": "code",
        "colab": {}
      },
      "source": [
        "%tensorflow_version 2.x\n",
        "import tensorflow as tf\n",
        "import numpy as np\n",
        "import matplotlib.pyplot as plt\n",
        "%matplotlib inline"
      ],
      "execution_count": null,
      "outputs": []
    },
    {
      "cell_type": "code",
      "metadata": {
        "id": "Qdn1sufe6WXt",
        "colab_type": "code",
        "colab": {
          "base_uri": "https://localhost:8080/",
          "height": 34
        },
        "outputId": "22e5c9b8-332a-449d-aed3-8eafe01303d4"
      },
      "source": [
        "print(tf.__version__)"
      ],
      "execution_count": null,
      "outputs": [
        {
          "output_type": "stream",
          "text": [
            "2.2.0-rc1\n"
          ],
          "name": "stdout"
        }
      ]
    },
    {
      "cell_type": "code",
      "metadata": {
        "id": "-aAfz4C9WhXY",
        "colab_type": "code",
        "colab": {
          "base_uri": "https://localhost:8080/",
          "height": 122
        },
        "outputId": "7baeed27-ff10-47c6-9ab2-dea90b89a58f"
      },
      "source": [
        "import os\n",
        "from google.colab import drive\n",
        "drive.mount('/gdrive')\n",
        "os.chdir('/gdrive/My Drive')"
      ],
      "execution_count": null,
      "outputs": [
        {
          "output_type": "stream",
          "text": [
            "Go to this URL in a browser: https://accounts.google.com/o/oauth2/auth?client_id=947318989803-6bn6qk8qdgf4n4g3pfee6491hc0brc4i.apps.googleusercontent.com&redirect_uri=urn%3aietf%3awg%3aoauth%3a2.0%3aoob&response_type=code&scope=email%20https%3a%2f%2fwww.googleapis.com%2fauth%2fdocs.test%20https%3a%2f%2fwww.googleapis.com%2fauth%2fdrive%20https%3a%2f%2fwww.googleapis.com%2fauth%2fdrive.photos.readonly%20https%3a%2f%2fwww.googleapis.com%2fauth%2fpeopleapi.readonly\n",
            "\n",
            "Enter your authorization code:\n",
            "··········\n",
            "Mounted at /gdrive\n"
          ],
          "name": "stdout"
        }
      ]
    },
    {
      "cell_type": "code",
      "metadata": {
        "id": "ao14Erc9xORA",
        "colab_type": "code",
        "colab": {}
      },
      "source": [
        "cifar_dir='Colab Notebooks/cifar-10-batches-py/'"
      ],
      "execution_count": null,
      "outputs": []
    },
    {
      "cell_type": "code",
      "metadata": {
        "id": "wa2cs7wyxORE",
        "colab_type": "code",
        "colab": {}
      },
      "source": [
        "def unpickle(file):\n",
        "    import pickle\n",
        "    with open(file,'rb') as fo:\n",
        "        cifar_dict=pickle.load(fo,encoding='bytes')\n",
        "    return cifar_dict"
      ],
      "execution_count": null,
      "outputs": []
    },
    {
      "cell_type": "code",
      "metadata": {
        "id": "bCqEV7z0xORJ",
        "colab_type": "code",
        "colab": {}
      },
      "source": [
        "dirs=['batches.meta','data_batch_1','data_batch_2','data_batch_3','data_batch_4','data_batch_5','test_batch']"
      ],
      "execution_count": null,
      "outputs": []
    },
    {
      "cell_type": "code",
      "metadata": {
        "id": "cK21fl53xORQ",
        "colab_type": "code",
        "colab": {}
      },
      "source": [
        "all_data=[0,1,2,3,4,5,6]"
      ],
      "execution_count": null,
      "outputs": []
    },
    {
      "cell_type": "code",
      "metadata": {
        "id": "OKmscfFVxORX",
        "colab_type": "code",
        "colab": {}
      },
      "source": [
        "for i,direc in zip(all_data,dirs):\n",
        "    all_data[i]=unpickle(os.path.join(cifar_dir,direc))"
      ],
      "execution_count": null,
      "outputs": []
    },
    {
      "cell_type": "code",
      "metadata": {
        "id": "0KxrICUOxORg",
        "colab_type": "code",
        "colab": {}
      },
      "source": [
        "batch_meta=all_data[0]\n",
        "batch_1=all_data[1]\n",
        "batch_2=all_data[2]\n",
        "batch_3=all_data[3]\n",
        "batch_4=all_data[4]\n",
        "batch_5=all_data[5]\n",
        "test_batch=all_data[6]"
      ],
      "execution_count": null,
      "outputs": []
    },
    {
      "cell_type": "code",
      "metadata": {
        "id": "p3w-o8JBxORo",
        "colab_type": "code",
        "colab": {
          "base_uri": "https://localhost:8080/",
          "height": 34
        },
        "outputId": "0558fcf5-e9cf-4a16-9a2a-ae21a6784abf"
      },
      "source": [
        "batch_1.keys()"
      ],
      "execution_count": null,
      "outputs": [
        {
          "output_type": "execute_result",
          "data": {
            "text/plain": [
              "dict_keys([b'batch_label', b'labels', b'data', b'filenames'])"
            ]
          },
          "metadata": {
            "tags": []
          },
          "execution_count": 53
        }
      ]
    },
    {
      "cell_type": "code",
      "metadata": {
        "id": "_E9qJcP1xORu",
        "colab_type": "code",
        "colab": {}
      },
      "source": [
        "x=batch_1[b\"data\"]"
      ],
      "execution_count": null,
      "outputs": []
    },
    {
      "cell_type": "code",
      "metadata": {
        "id": "b8MPjDIpxOR3",
        "colab_type": "code",
        "colab": {
          "base_uri": "https://localhost:8080/",
          "height": 34
        },
        "outputId": "8f07cfc3-f030-4ed9-b2e4-289ba7a873e7"
      },
      "source": [
        "len(x[0])"
      ],
      "execution_count": null,
      "outputs": [
        {
          "output_type": "execute_result",
          "data": {
            "text/plain": [
              "3072"
            ]
          },
          "metadata": {
            "tags": []
          },
          "execution_count": 16
        }
      ]
    },
    {
      "cell_type": "code",
      "metadata": {
        "id": "s3ErqpfGxOSB",
        "colab_type": "code",
        "colab": {
          "base_uri": "https://localhost:8080/",
          "height": 283
        },
        "outputId": "41db662a-1792-41be-d483-a15b9911f099"
      },
      "source": [
        "plt.imshow(x[0].reshape(3,32,32).transpose(1,2,0))"
      ],
      "execution_count": null,
      "outputs": [
        {
          "output_type": "execute_result",
          "data": {
            "text/plain": [
              "<matplotlib.image.AxesImage at 0x7f2229fd09e8>"
            ]
          },
          "metadata": {
            "tags": []
          },
          "execution_count": 17
        },
        {
          "output_type": "display_data",
          "data": {
            "image/png": "[encoded data removed]",
            "text/plain": [
              "<Figure size 432x288 with 1 Axes>"
            ]
          },
          "metadata": {
            "tags": []
          }
        }
      ]
    },
    {
      "cell_type": "code",
      "metadata": {
        "id": "ozB1-Lr5xOSH",
        "colab_type": "code",
        "colab": {}
      },
      "source": [
        "def one_hot_encode(vec,val=10):\n",
        "    n=len(vec)\n",
        "    a=np.zeros((n,val))\n",
        "    a[range(n),vec]=1\n",
        "    return a"
      ],
      "execution_count": null,
      "outputs": []
    },
    {
      "cell_type": "code",
      "metadata": {
        "id": "VzZrpfdGxOSO",
        "colab_type": "code",
        "colab": {}
      },
      "source": [
        "class CifarHelper():\n",
        "    def __init__(self):\n",
        "        self.i=0\n",
        "        \n",
        "        self.all_train_batches=[batch_1,batch_2,batch_3,batch_4,batch_5]\n",
        "        self.test_batch=[test_batch]\n",
        "        \n",
        "        self.training_images=None\n",
        "        self.training_labels=None\n",
        "        \n",
        "        self.test_images=None\n",
        "        self.test_labels=None\n",
        "        \n",
        "    def set_up_images(self):\n",
        "        print(\"Setting up Training Images and Labels\")\n",
        "        \n",
        "        self.training_images=np.vstack([d[b'data'] for d in self.all_train_batches])\n",
        "        train_len=len(self.training_images)\n",
        "        \n",
        "        self.training_images=self.training_images.reshape(train_len,3,32,32).transpose(0,2,3,1)/255\n",
        "        self.training_labels=one_hot_encode(np.hstack([d[b\"labels\"] for d in self.all_train_batches]),10)\n",
        "        \n",
        "        print(\"Setting up Testing Images and Labels\")\n",
        "        \n",
        "        self.test_images=np.vstack([d[b\"data\"] for d in self.test_batch])\n",
        "        test_len=len(self.test_images)\n",
        "        \n",
        "        self.test_images=self.test_images.reshape(test_len,3,32,32).transpose(0,2,3,1)/255\n",
        "        self.test_labels=one_hot_encode(np.hstack([d[b\"labels\"] for d in self.test_batch]),10)\n",
        "        \n",
        "    def next_batch(self,batch_size):\n",
        "        x=self.training_images[self.i:self.i+batch_size]\n",
        "        y=self.training_labels[self.i:self.i+batch_size]\n",
        "        self.i=(self.i+batch_size)%len(self.training_images)\n",
        "        \n",
        "        return x,y"
      ],
      "execution_count": null,
      "outputs": []
    },
    {
      "cell_type": "code",
      "metadata": {
        "id": "9Yk-crypxOSS",
        "colab_type": "code",
        "colab": {
          "base_uri": "https://localhost:8080/",
          "height": 51
        },
        "outputId": "5ff3a52c-5bfa-490c-a342-7873f7f69437"
      },
      "source": [
        "ch=CifarHelper()\n",
        "ch.set_up_images()"
      ],
      "execution_count": null,
      "outputs": [
        {
          "output_type": "stream",
          "text": [
            "Setting up Training Images and Labels\n",
            "Setting up Testing Images and Labels\n"
          ],
          "name": "stdout"
        }
      ]
    },
    {
      "cell_type": "code",
      "metadata": {
        "id": "JaJN1lnaxOSY",
        "colab_type": "code",
        "colab": {}
      },
      "source": [
        "def initial_weights(shape):\n",
        "    random_weights=tf.random.truncated_normal(shape,stddev=0.1)\n",
        "    return tf.Variable(random_weights)"
      ],
      "execution_count": null,
      "outputs": []
    },
    {
      "cell_type": "code",
      "metadata": {
        "id": "Hd-4eFrZxOSd",
        "colab_type": "code",
        "colab": {}
      },
      "source": [
        "def initial_bias(shape):\n",
        "    random_bias=tf.constant(0.1,shape=shape)\n",
        "    return tf.Variable(random_bias)"
      ],
      "execution_count": null,
      "outputs": []
    },
    {
      "cell_type": "code",
      "metadata": {
        "id": "YntpQ4IXxOSj",
        "colab_type": "code",
        "colab": {}
      },
      "source": [
        "def conv2D(x,W):\n",
        "    return tf.nn.conv2d(x,W,strides=[1,1,1,1],padding='SAME')\n",
        "\n",
        "def convolutional_layer(input_x,shape):\n",
        "    w=initial_weights(shape)\n",
        "    b=initial_bias([shape[3]])\n",
        "    return tf.nn.relu(conv2D(input_x,w)+b)\n",
        "\n",
        "def max_pool_2by2(x):\n",
        "    return tf.nn.max_pool(x,ksize=[1,2,2,1],strides=[1,2,2,1],padding='SAME')\n",
        "\n",
        "def normal_full_layer(input_layer,size):\n",
        "    input_size=int(input_layer.get_shape()[1])\n",
        "    w=initial_weights([input_size,size])\n",
        "    b=initial_bias([size])\n",
        "    return tf.matmul(input_layer,w)+b"
      ],
      "execution_count": null,
      "outputs": []
    },
    {
      "cell_type": "code",
      "metadata": {
        "id": "jDzZIt7vxOSp",
        "colab_type": "code",
        "colab": {}
      },
      "source": [
        "tf.compat.v1.disable_eager_execution()"
      ],
      "execution_count": null,
      "outputs": []
    },
    {
      "cell_type": "code",
      "metadata": {
        "id": "TIePDD-fxOSu",
        "colab_type": "code",
        "colab": {}
      },
      "source": [
        "x=tf.compat.v1.placeholder(tf.float32,shape=[None,32,32,3])\n",
        "y_true=tf.compat.v1.placeholder(tf.float32,shape=[None,10])\n",
        "hold_prob=tf.compat.v1.placeholder(tf.float32)"
      ],
      "execution_count": null,
      "outputs": []
    },
    {
      "cell_type": "code",
      "metadata": {
        "id": "znEl6zOvxOSy",
        "colab_type": "code",
        "colab": {
          "base_uri": "https://localhost:8080/",
          "height": 88
        },
        "outputId": "a156eecb-2f01-4194-8d01-198aa3ff3541"
      },
      "source": [
        "convo_1=convolutional_layer(x,shape=[4,4,3,32])\n",
        "convo_1_pooling=max_pool_2by2(convo_1)"
      ],
      "execution_count": null,
      "outputs": [
        {
          "output_type": "stream",
          "text": [
            "WARNING:tensorflow:From /usr/local/lib/python3.6/dist-packages/tensorflow/python/ops/resource_variable_ops.py:1666: calling BaseResourceVariable.__init__ (from tensorflow.python.ops.resource_variable_ops) with constraint is deprecated and will be removed in a future version.\n",
            "Instructions for updating:\n",
            "If using Keras pass *_constraint arguments to layers.\n"
          ],
          "name": "stdout"
        }
      ]
    },
    {
      "cell_type": "code",
      "metadata": {
        "id": "pXTR2NEZxOS3",
        "colab_type": "code",
        "colab": {}
      },
      "source": [
        "convo_2=convolutional_layer(convo_1_pooling,shape=[4,4,32,64])\n",
        "convo_2_pooling=max_pool_2by2(convo_2)"
      ],
      "execution_count": null,
      "outputs": []
    },
    {
      "cell_type": "code",
      "metadata": {
        "id": "jqIpt1ztxOS8",
        "colab_type": "code",
        "colab": {}
      },
      "source": [
        "convo_2_flat=tf.reshape(convo_2_pooling,[-1,8*8*64])"
      ],
      "execution_count": null,
      "outputs": []
    },
    {
      "cell_type": "code",
      "metadata": {
        "id": "7Ohl6FUbxOTE",
        "colab_type": "code",
        "colab": {}
      },
      "source": [
        "full_layer=normal_full_layer(convo_2_flat,1024)"
      ],
      "execution_count": null,
      "outputs": []
    },
    {
      "cell_type": "code",
      "metadata": {
        "id": "5pQPXfOkxOTJ",
        "colab_type": "code",
        "colab": {}
      },
      "source": [
        "full_layer_relu=tf.nn.relu(full_layer)"
      ],
      "execution_count": null,
      "outputs": []
    },
    {
      "cell_type": "code",
      "metadata": {
        "id": "jEDbJIrsxOTM",
        "colab_type": "code",
        "colab": {
          "base_uri": "https://localhost:8080/",
          "height": 88
        },
        "outputId": "82d278c3-7e42-4bd8-d288-ed5e13a60e4f"
      },
      "source": [
        "full_layer_dropout=tf.compat.v1.nn.dropout(full_layer_relu,hold_prob)"
      ],
      "execution_count": null,
      "outputs": [
        {
          "output_type": "stream",
          "text": [
            "WARNING:tensorflow:From <ipython-input-31-fa39ae5fde39>:1: calling dropout (from tensorflow.python.ops.nn_ops) with keep_prob is deprecated and will be removed in a future version.\n",
            "Instructions for updating:\n",
            "Please use `rate` instead of `keep_prob`. Rate should be set to `rate = 1 - keep_prob`.\n"
          ],
          "name": "stdout"
        }
      ]
    },
    {
      "cell_type": "code",
      "metadata": {
        "id": "XkCY9z8RxOTS",
        "colab_type": "code",
        "colab": {}
      },
      "source": [
        "y_pred=normal_full_layer(full_layer_dropout,10)"
      ],
      "execution_count": null,
      "outputs": []
    },
    {
      "cell_type": "code",
      "metadata": {
        "id": "u-jprWMxxOTZ",
        "colab_type": "code",
        "colab": {}
      },
      "source": [
        "cross_entropy=tf.reduce_mean(tf.nn.softmax_cross_entropy_with_logits(labels=y_true,logits=y_pred))"
      ],
      "execution_count": null,
      "outputs": []
    },
    {
      "cell_type": "code",
      "metadata": {
        "id": "QBp4IyNOxOTe",
        "colab_type": "code",
        "colab": {}
      },
      "source": [
        "optimizer=tf.compat.v1.train.AdamOptimizer(learning_rate=0.0001)\n",
        "train=optimizer.minimize(cross_entropy)"
      ],
      "execution_count": null,
      "outputs": []
    },
    {
      "cell_type": "code",
      "metadata": {
        "id": "-_xgfbolYbnW",
        "colab_type": "code",
        "colab": {}
      },
      "source": [
        "matches=tf.equal(tf.argmax(y_pred,1),tf.argmax(y_true,1))\n",
        "acc=tf.reduce_mean(tf.cast(matches,tf.float32))"
      ],
      "execution_count": null,
      "outputs": []
    },
    {
      "cell_type": "code",
      "metadata": {
        "id": "yttXvRT95sHo",
        "colab_type": "code",
        "colab": {}
      },
      "source": [
        "init=tf.compat.v1.global_variables_initializer()"
      ],
      "execution_count": null,
      "outputs": []
    },
    {
      "cell_type": "code",
      "metadata": {
        "id": "C3XdQqBexOTi",
        "colab_type": "code",
        "colab": {
          "base_uri": "https://localhost:8080/",
          "height": 867
        },
        "outputId": "4d899720-610c-4fb1-9d7b-f5cedd74fe02"
      },
      "source": [
        "with tf.compat.v1.Session() as sess:\n",
        "    sess.run(init)\n",
        "    \n",
        "    for i in range(5000):\n",
        "        batch=ch.next_batch(100)\n",
        "        _, loss = sess.run([train, cross_entropy],feed_dict={x:batch[0],y_true:batch[1],hold_prob:0.9})\n",
        "        #print(loss)\n",
        "        if i%100 == 0:\n",
        "          print(sess.run(acc,feed_dict={x:ch.test_images,y_true:ch.test_labels,hold_prob:1.0}))"
      ],
      "execution_count": null,
      "outputs": [
        {
          "output_type": "stream",
          "text": [
            "0.1049\n",
            "0.3114\n",
            "0.3733\n",
            "0.4155\n",
            "0.4448\n",
            "0.4571\n",
            "0.4773\n",
            "0.4929\n",
            "0.5012\n",
            "0.5071\n",
            "0.511\n",
            "0.5254\n",
            "0.5355\n",
            "0.535\n",
            "0.5417\n",
            "0.541\n",
            "0.5553\n",
            "0.5588\n",
            "0.558\n",
            "0.5699\n",
            "0.5684\n",
            "0.5802\n",
            "0.5821\n",
            "0.5766\n",
            "0.5911\n",
            "0.5816\n",
            "0.6009\n",
            "0.5998\n",
            "0.5913\n",
            "0.6046\n",
            "0.5991\n",
            "0.6129\n",
            "0.6163\n",
            "0.604\n",
            "0.6164\n",
            "0.611\n",
            "0.6277\n",
            "0.6282\n",
            "0.6158\n",
            "0.6266\n",
            "0.6221\n",
            "0.6357\n",
            "0.6343\n",
            "0.6215\n",
            "0.6381\n",
            "0.6317\n",
            "0.6481\n",
            "0.6422\n",
            "0.6349\n",
            "0.6431\n"
          ],
          "name": "stdout"
        }
      ]
    },
    {
      "cell_type": "code",
      "metadata": {
        "id": "WT0cy0HOeiSk",
        "colab_type": "code",
        "colab": {}
      },
      "source": [
        ""
      ],
      "execution_count": null,
      "outputs": []
    }
  ]
}